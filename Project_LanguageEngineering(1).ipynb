{
  "nbformat": 4,
  "nbformat_minor": 0,
  "metadata": {
    "colab": {
      "provenance": [],
      "authorship_tag": "ABX9TyN4eipS/xtt8BObirdbaAfd",
      "include_colab_link": true
    },
    "kernelspec": {
      "name": "python3",
      "display_name": "Python 3"
    },
    "language_info": {
      "name": "python"
    }
  },
  "cells": [
    {
      "cell_type": "markdown",
      "metadata": {
        "id": "view-in-github",
        "colab_type": "text"
      },
      "source": [
        "<a href=\"https://colab.research.google.com/github/Beshoy-R/Beshoy-R/blob/main/Project_LanguageEngineering(1).ipynb\" target=\"_parent\"><img src=\"https://colab.research.google.com/assets/colab-badge.svg\" alt=\"Open In Colab\"/></a>"
      ]
    },
    {
      "cell_type": "code",
      "execution_count": 1,
      "metadata": {
        "id": "cmhKqoBhFf96",
        "colab": {
          "base_uri": "https://localhost:8080/"
        },
        "outputId": "b8826f5c-efff-4012-8eb1-384263908e46"
      },
      "outputs": [
        {
          "output_type": "stream",
          "name": "stderr",
          "text": [
            "[nltk_data] Downloading package punkt to /root/nltk_data...\n",
            "[nltk_data]   Package punkt is already up-to-date!\n",
            "[nltk_data] Downloading package stopwords to /root/nltk_data...\n",
            "[nltk_data]   Package stopwords is already up-to-date!\n",
            "[nltk_data] Downloading package wordnet to /root/nltk_data...\n",
            "[nltk_data]   Package wordnet is already up-to-date!\n"
          ]
        },
        {
          "output_type": "execute_result",
          "data": {
            "text/plain": [
              "True"
            ]
          },
          "metadata": {},
          "execution_count": 1
        }
      ],
      "source": [
        "import pandas as pd\n",
        "import nltk\n",
        "import re\n",
        "from nltk.corpus import wordnet\n",
        "from nltk.corpus import stopwords\n",
        "from nltk.stem import WordNetLemmatizer\n",
        "nltk.download('punkt')\n",
        "nltk.download('stopwords')\n",
        "nltk.download('wordnet')"
      ]
    },
    {
      "cell_type": "code",
      "source": [
        "dataset = pd.read_csv('dataset.csv')"
      ],
      "metadata": {
        "id": "DJK0dcwcWY1h"
      },
      "execution_count": 2,
      "outputs": []
    },
    {
      "cell_type": "code",
      "source": [
        "columns = dataset.columns\n",
        "print(columns)"
      ],
      "metadata": {
        "colab": {
          "base_uri": "https://localhost:8080/"
        },
        "id": "oG0hnnQqLPeW",
        "outputId": "f2af3470-6607-42be-abab-e08ff1e06907"
      },
      "execution_count": 3,
      "outputs": [
        {
          "output_type": "stream",
          "name": "stdout",
          "text": [
            "Index(['id', 'comment_text', 'toxic', 'severe_toxic', 'obscene', 'threat',\n",
            "       'insult', 'identity_hate'],\n",
            "      dtype='object')\n"
          ]
        }
      ]
    },
    {
      "cell_type": "markdown",
      "source": [
        "**-> Dropping unwanted columns:**"
      ],
      "metadata": {
        "id": "Gosp8qiZQSbe"
      }
    },
    {
      "cell_type": "code",
      "source": [
        "dataset = dataset.drop(columns=['id', 'severe_toxic', 'obscene','obscene','threat','insult','identity_hate'])\n"
      ],
      "metadata": {
        "id": "5Imk_xldL-V0"
      },
      "execution_count": 4,
      "outputs": []
    },
    {
      "cell_type": "code",
      "source": [
        "print(dataset)"
      ],
      "metadata": {
        "colab": {
          "base_uri": "https://localhost:8080/"
        },
        "id": "kpxqaskIMPKX",
        "outputId": "65af8330-047c-4a2e-ea3c-b49d1650e51d"
      },
      "execution_count": 5,
      "outputs": [
        {
          "output_type": "stream",
          "name": "stdout",
          "text": [
            "                                           comment_text  toxic\n",
            "0     Explanation\\nWhy the edits made under my usern...      0\n",
            "1     D'aww! He matches this background colour I'm s...      0\n",
            "2     Hey man, I'm really not trying to edit war. It...      0\n",
            "3     \"\\nMore\\nI can't make any real suggestions on ...      0\n",
            "4     You, sir, are my hero. Any chance you remember...      0\n",
            "...                                                 ...    ...\n",
            "6550  \"\\n\\nOn the subject of the German Uranium, the...      0\n",
            "6551  not covered in the article \\n\\nJohn Hughes was...      0\n",
            "6552  This whole page is messed up....charters liste...      0\n",
            "6553  \"\\n\\n Proposed Changes \\n\\n1 USC 112 says that...      0\n",
            "6554                  Yes.  See the talk page archives.      0\n",
            "\n",
            "[6555 rows x 2 columns]\n"
          ]
        }
      ]
    },
    {
      "cell_type": "markdown",
      "source": [
        "**-> Cleaning the data(Tokenize,Removing Stopwords,Lemmatize):**\n"
      ],
      "metadata": {
        "id": "OKAEPzzLPvU0"
      }
    },
    {
      "cell_type": "code",
      "source": [
        "import re\n",
        "import nltk\n",
        "from nltk.corpus import stopwords\n",
        "from nltk.stem import WordNetLemmatizer\n",
        "\n",
        "nltk.download('punkt')\n",
        "nltk.download('stopwords')\n",
        "nltk.download('wordnet')\n",
        "\n",
        "stop_words = set(stopwords.words('english')).difference({\n",
        "    'against', 'ain', 'aren', \"aren't\", 'couldn', \"couldn't\", \"didn't\", 'didn', 'doesn', \n",
        "    \"doesn't\", 'doing', 'don', \"don't\", 'down', 'did', 'can', 'had', 'hadn', \"hadn't\", \n",
        "    'has', 'hasn', \"hasn't\", 'have', 'haven', \"haven't\", 'is', 'isn', \"isn't\", 'mightn', \n",
        "    \"mightn't\", 'more', 'most', 'mustn', \"mustn't\", 'needn', \"needn't\", 'no', 'nor', \n",
        "    'not', 'off', 'on', 'should', \"should've\", 'shouldn', \"shouldn't\", 'so', 't', 'too', \n",
        "    'very', 'was', 'wasn', \"wasn't\", 'were', 'weren', \"weren't\", \"won't\", 'wouldn', \n",
        "    \"wouldn't\",\n",
        "})\n",
        "\n",
        "def preprocess_text(text):\n",
        "\n",
        "    text = re.sub(r'http\\S+|www.\\S+|@\\S+', '', text)\n",
        "\n",
        "    text = re.sub(r'[^a-zA-Z\\s]', '', text.lower())\n",
        "\n",
        "    tokens = nltk.word_tokenize(text)\n",
        "\n",
        "    tokens = [word for word in tokens if word not in stop_words]\n",
        "\n",
        "    lemmatizer = WordNetLemmatizer()\n",
        "\n",
        "    tokens = [lemmatizer.lemmatize(word) for word in tokens]\n",
        "\n",
        "    text = ' '.join(tokens)\n",
        "    \n",
        "    return text\n",
        "\n",
        "def nltk_tag_to_wordnet_tag(nltk_tag):\n",
        "    if nltk_tag.startswith('J'):\n",
        "        return wordnet.ADJ\n",
        "    elif nltk_tag.startswith('V'):\n",
        "        return wordnet.VERB\n",
        "    elif nltk_tag.startswith('N'):\n",
        "        return wordnet.NOUN\n",
        "    elif nltk_tag.startswith('R'):\n",
        "        return wordnet.ADV\n",
        "    else:          \n",
        "        return None\n",
        "        \n",
        "dataset['comment_text'] = dataset['comment_text'].apply(preprocess_text)\n"
      ],
      "metadata": {
        "id": "u6mJsSTppWD7",
        "outputId": "aea311db-6e45-4dc9-8194-d2017a74dc24",
        "colab": {
          "base_uri": "https://localhost:8080/"
        }
      },
      "execution_count": 6,
      "outputs": [
        {
          "output_type": "stream",
          "name": "stderr",
          "text": [
            "[nltk_data] Downloading package punkt to /root/nltk_data...\n",
            "[nltk_data]   Package punkt is already up-to-date!\n",
            "[nltk_data] Downloading package stopwords to /root/nltk_data...\n",
            "[nltk_data]   Package stopwords is already up-to-date!\n",
            "[nltk_data] Downloading package wordnet to /root/nltk_data...\n",
            "[nltk_data]   Package wordnet is already up-to-date!\n"
          ]
        }
      ]
    },
    {
      "cell_type": "markdown",
      "source": [
        "**###### Done Prepareing the data(Cleaning and Preprocessing) ######**"
      ],
      "metadata": {
        "id": "g2KG7kKlXk5-"
      }
    },
    {
      "cell_type": "markdown",
      "source": [
        "**## ALGORITHM (1) Logistic Regression: ##**"
      ],
      "metadata": {
        "id": "uheIgo7-Tv57"
      }
    },
    {
      "cell_type": "code",
      "source": [
        "from sklearn.model_selection import train_test_split\n",
        "from sklearn.feature_extraction.text import TfidfVectorizer\n",
        "from sklearn.linear_model import LogisticRegression\n",
        "from sklearn.metrics import accuracy_score"
      ],
      "metadata": {
        "id": "x0cVgtSaRIJC"
      },
      "execution_count": 7,
      "outputs": []
    },
    {
      "cell_type": "code",
      "source": [
        "X = dataset['comment_text']\n",
        "y = dataset['toxic']\n",
        "\n",
        "X_train, X_test, y_train, y_test = train_test_split(X, y, test_size=0.2, random_state=42)\n",
        "\n",
        "vectorizer = TfidfVectorizer()\n",
        "\n",
        "X_train = vectorizer.fit_transform(X_train)\n",
        "\n",
        "X_test = vectorizer.transform(X_test)\n",
        "\n",
        "LR_Model = LogisticRegression()\n",
        "\n",
        "LR_Model.fit(X_train, y_train)\n",
        "\n",
        "y_pred = LR_Model.predict(X_test)\n",
        "\n",
        "LR_accuracy = accuracy_score(y_test, y_pred)\n",
        "\n",
        "print(f\"Logistic_Regression_Accuracy: {LR_accuracy*100}%\")"
      ],
      "metadata": {
        "colab": {
          "base_uri": "https://localhost:8080/"
        },
        "id": "IianBaATY3Zc",
        "outputId": "e3f2037c-09a0-4944-d5f0-645f0a28c7ef"
      },
      "execution_count": 8,
      "outputs": [
        {
          "output_type": "stream",
          "name": "stdout",
          "text": [
            "Logistic_Regression_Accuracy: 92.82990083905416%\n"
          ]
        }
      ]
    },
    {
      "cell_type": "markdown",
      "source": [
        "**## ALGORITHM (2) Support Vector Machine: ##**"
      ],
      "metadata": {
        "id": "xjgD2xjxbZLy"
      }
    },
    {
      "cell_type": "code",
      "source": [
        "from sklearn.model_selection import train_test_split\n",
        "from sklearn.svm import SVC\n",
        "from sklearn.metrics import accuracy_score\n",
        "from sklearn.feature_extraction.text import TfidfVectorizer"
      ],
      "metadata": {
        "id": "MWxKcKRSbjO_"
      },
      "execution_count": 9,
      "outputs": []
    },
    {
      "cell_type": "code",
      "source": [
        "X = dataset['comment_text']\n",
        "y = dataset['toxic']\n",
        "\n",
        "X_train, X_test, y_train, y_test = train_test_split(X, y, test_size=0.2, random_state=42)\n",
        "\n",
        "vectorizer = TfidfVectorizer()\n",
        "\n",
        "X_train = vectorizer.fit_transform(X_train)\n",
        "X_test = vectorizer.transform(X_test)\n",
        "\n",
        "SVC_model = SVC()\n",
        "\n",
        "SVC_model.fit(X_train, y_train)\n",
        "\n",
        "y_pred = SVC_model.predict(X_test)\n",
        "\n",
        "accuracy = accuracy_score(y_test, y_pred)\n",
        "\n",
        "print(f\"Support_Vector_Machine_Accuracy: {accuracy*100}%\")"
      ],
      "metadata": {
        "colab": {
          "base_uri": "https://localhost:8080/"
        },
        "id": "EgJ_pnxfb2bI",
        "outputId": "267a82bb-6983-4b98-925f-d12381bd99e4"
      },
      "execution_count": 10,
      "outputs": [
        {
          "output_type": "stream",
          "name": "stdout",
          "text": [
            "Support_Vector_Machine_Accuracy: 93.59267734553775%\n"
          ]
        }
      ]
    },
    {
      "cell_type": "markdown",
      "source": [
        "**## ALGORITHM (3) Naïve Bayes: ##**"
      ],
      "metadata": {
        "id": "F9LNcaGXdDFW"
      }
    },
    {
      "cell_type": "code",
      "source": [
        "from sklearn.model_selection import train_test_split\n",
        "from sklearn.naive_bayes import MultinomialNB\n",
        "from sklearn.metrics import accuracy_score\n",
        "from sklearn.feature_extraction.text import TfidfVectorizer"
      ],
      "metadata": {
        "id": "ZLfn9-9bh2uC"
      },
      "execution_count": 11,
      "outputs": []
    },
    {
      "cell_type": "code",
      "source": [
        "X = dataset['comment_text']\n",
        "y = dataset['toxic']\n",
        "\n",
        "X_train, X_test, y_train, y_test = train_test_split(X, y, test_size=0.2, random_state=42)\n",
        "\n",
        "vectorizer = TfidfVectorizer()\n",
        "\n",
        "X_train = vectorizer.fit_transform(X_train)\n",
        "X_test = vectorizer.transform(X_test)\n",
        "\n",
        "NB_model = MultinomialNB()\n",
        "\n",
        "NB_model.fit(X_train, y_train)\n",
        "\n",
        "y_pred = NB_model.predict(X_test)\n",
        "\n",
        "accuracy = accuracy_score(y_test, y_pred)\n",
        "\n",
        "print(f\"Naïve_Bayes_Accuracy: {accuracy*100}%\")"
      ],
      "metadata": {
        "colab": {
          "base_uri": "https://localhost:8080/"
        },
        "id": "gETfQTLsh83u",
        "outputId": "f4c59223-86a1-4e67-9e05-27993979bed7"
      },
      "execution_count": 12,
      "outputs": [
        {
          "output_type": "stream",
          "name": "stdout",
          "text": [
            "Naïve_Bayes_Accuracy: 90.69412662090008%\n"
          ]
        }
      ]
    },
    {
      "cell_type": "markdown",
      "source": [
        "**## ALGORITHM (4) Artificial Neural Networks: ##**"
      ],
      "metadata": {
        "id": "k1Ek_ivzi3L2"
      }
    },
    {
      "cell_type": "code",
      "source": [
        "import tensorflow as tf\n",
        "from sklearn.model_selection import train_test_split\n",
        "from sklearn.metrics import accuracy_score\n",
        "from sklearn.feature_extraction.text import TfidfVectorizer"
      ],
      "metadata": {
        "id": "YA9_6KRejunw"
      },
      "execution_count": 13,
      "outputs": []
    },
    {
      "cell_type": "code",
      "source": [
        "X = dataset['comment_text']\n",
        "y = dataset['toxic']\n",
        "\n",
        "X_train, X_test, y_train, y_test = train_test_split(X, y, test_size=0.2, random_state=42)\n",
        "\n",
        "vectorizer = TfidfVectorizer()\n",
        "\n",
        "X_train = vectorizer.fit_transform(X_train).toarray()\n",
        "X_test = vectorizer.transform(X_test).toarray()\n",
        "\n",
        "ANN_model = tf.keras.Sequential([\n",
        "    tf.keras.layers.Dense(64, activation='relu', input_shape=(X_train.shape[1],)),\n",
        "    tf.keras.layers.Dense(1, activation='sigmoid')\n",
        "])\n",
        "\n",
        "ANN_model.compile(optimizer='adam', loss='binary_crossentropy', metrics=['accuracy'])\n",
        "\n",
        "ANN_model.fit(X_train, y_train, epochs=10, batch_size=32, verbose=1)\n",
        "\n",
        "y_pred_prob = ANN_model.predict(X_test)\n",
        "y_pred = (y_pred_prob > 0.5).astype(int)\n",
        "\n",
        "accuracy = accuracy_score(y_test, y_pred)\n",
        "\n",
        "print(f\"Artificial_Neural_Networks_Accuracy: {accuracy*100}%\")"
      ],
      "metadata": {
        "colab": {
          "base_uri": "https://localhost:8080/"
        },
        "id": "C9juA_-0jwXy",
        "outputId": "fed33da0-62ef-402d-c41d-67678289717c"
      },
      "execution_count": 14,
      "outputs": [
        {
          "output_type": "stream",
          "name": "stdout",
          "text": [
            "Epoch 1/10\n",
            "164/164 [==============================] - 5s 23ms/step - loss: 0.3770 - accuracy: 0.8993\n",
            "Epoch 2/10\n",
            "164/164 [==============================] - 5s 28ms/step - loss: 0.2065 - accuracy: 0.9182\n",
            "Epoch 3/10\n",
            "164/164 [==============================] - 4s 22ms/step - loss: 0.1083 - accuracy: 0.9653\n",
            "Epoch 4/10\n",
            "164/164 [==============================] - 4s 22ms/step - loss: 0.0545 - accuracy: 0.9884\n",
            "Epoch 5/10\n",
            "164/164 [==============================] - 4s 26ms/step - loss: 0.0307 - accuracy: 0.9960\n",
            "Epoch 6/10\n",
            "164/164 [==============================] - 4s 25ms/step - loss: 0.0192 - accuracy: 0.9979\n",
            "Epoch 7/10\n",
            "164/164 [==============================] - 4s 27ms/step - loss: 0.0131 - accuracy: 0.9985\n",
            "Epoch 8/10\n",
            "164/164 [==============================] - 5s 33ms/step - loss: 0.0096 - accuracy: 0.9989\n",
            "Epoch 9/10\n",
            "164/164 [==============================] - 5s 32ms/step - loss: 0.0077 - accuracy: 0.9989\n",
            "Epoch 10/10\n",
            "164/164 [==============================] - 4s 22ms/step - loss: 0.0063 - accuracy: 0.9990\n",
            "41/41 [==============================] - 0s 6ms/step\n",
            "Artificial_Neural_Networks_Accuracy: 93.97406559877956%\n"
          ]
        }
      ]
    },
    {
      "cell_type": "code",
      "source": [
        "from sklearn.metrics import confusion_matrix\n",
        "import seaborn as sns\n",
        "import matplotlib.pyplot as plt\n",
        "\n",
        "cm = confusion_matrix(y_test, y_pred)\n",
        "\n",
        "labels = ['Non-Toxic', 'Toxic']\n",
        "\n",
        "sns.heatmap(cm, annot=True, cmap='Blues', fmt='d', xticklabels=labels, yticklabels=labels)\n",
        "\n",
        "plt.xlabel('Predicted')\n",
        "plt.ylabel('True')\n",
        "plt.title('Confusion Matrix')\n",
        "\n",
        "plt.show()\n"
      ],
      "metadata": {
        "colab": {
          "base_uri": "https://localhost:8080/",
          "height": 472
        },
        "id": "6raQ8JvL3RpS",
        "outputId": "7b60b971-1b8b-46db-fd2f-a04eb95433a8"
      },
      "execution_count": 15,
      "outputs": [
        {
          "output_type": "display_data",
          "data": {
            "text/plain": [
              "<Figure size 640x480 with 2 Axes>"
            ],
            "image/png": "[encoded data removed]"
          },
          "metadata": {}
        }
      ]
    },
    {
      "cell_type": "code",
      "source": [
        "from collections import Counter\n",
        "import matplotlib.pyplot as plt\n",
        "\n",
        "toxic_comments = dataset[dataset['toxic'] == 1]['comment_text']\n",
        "\n",
        "toxic_text = ' '.join(toxic_comments)\n",
        "\n",
        "tokens = nltk.word_tokenize(toxic_text)\n",
        "\n",
        "word_frequency = Counter(tokens)\n",
        "\n",
        "top_words = word_frequency.most_common(20)\n",
        "words, frequencies = zip(*top_words)\n",
        "\n",
        "plt.bar(words, frequencies)\n",
        "\n",
        "plt.xlabel('Words')\n",
        "plt.ylabel('Frequency')\n",
        "plt.title('Toxic Comment Word Frequency')\n",
        "\n",
        "plt.xticks(rotation=45)\n",
        "\n",
        "plt.show()\n"
      ],
      "metadata": {
        "colab": {
          "base_uri": "https://localhost:8080/",
          "height": 528
        },
        "id": "nQ_y77gG5tTq",
        "outputId": "a48d3acc-6ab4-4da3-ec90-dd804f9bbd40"
      },
      "execution_count": 16,
      "outputs": [
        {
          "output_type": "display_data",
          "data": {
            "text/plain": [
              "<Figure size 640x480 with 1 Axes>"
            ],
            "image/png": "[encoded data removed]"
          },
          "metadata": {}
        }
      ]
    },
    {
      "cell_type": "markdown",
      "source": [
        "**TEST OUR COMMENT**"
      ],
      "metadata": {
        "id": "BPS3NUQ1rdqa"
      }
    },
    {
      "cell_type": "code",
      "source": [
        "our_comment = \"Have a happy day\"\n",
        "preprocessed_comment = preprocess_text(our_comment)\n",
        "vectorized_comment = vectorizer.transform([preprocessed_comment]).toarray()\n",
        "\n",
        "ANN_prediction_prob = ANN_model.predict(vectorized_comment)\n",
        "ANN_prediction = (ANN_prediction_prob > 0.5).astype(int)\n",
        "prediction_label_ANN = 'toxic' if ANN_prediction == 1 else 'non-toxic'\n",
        "print('ANN_Prediction:', prediction_label_ANN)\n",
        "\n",
        "NB_prediction_prob = NB_model.predict(vectorized_comment)\n",
        "NB_prediction = (NB_prediction_prob > 0.5).astype(int)\n",
        "prediction_label_NB = 'toxic' if NB_prediction == 1 else 'non-toxic'\n",
        "print('NB_Prediction:', prediction_label_NB)\n",
        "\n",
        "SVC_prediction_prob = SVC_model.predict(vectorized_comment)\n",
        "SVC_prediction = (SVC_prediction_prob > 0.5).astype(int)\n",
        "prediction_label_SVC = 'toxic' if SVC_prediction == 1 else 'non-toxic'\n",
        "print('SVC_Prediction:', prediction_label_SVC)\n",
        "\n",
        "LR_prediction_prob = LR_Model.predict(vectorized_comment)\n",
        "LR_prediction = (LR_prediction_prob > 0.5).astype(int)\n",
        "prediction_label_LR = 'toxic' if LR_prediction == 1 else 'non-toxic'\n",
        "print('LR_Prediction:', prediction_label_LR)\n"
      ],
      "metadata": {
        "id": "cSOyift2rc5n",
        "colab": {
          "base_uri": "https://localhost:8080/"
        },
        "outputId": "32ac2d2b-2bab-4d0b-aa59-74917223b3c1"
      },
      "execution_count": 17,
      "outputs": [
        {
          "output_type": "stream",
          "name": "stdout",
          "text": [
            "1/1 [==============================] - 0s 28ms/step\n",
            "ANN_Prediction: non-toxic\n",
            "NB_Prediction: non-toxic\n",
            "SVC_Prediction: non-toxic\n",
            "LR_Prediction: non-toxic\n"
          ]
        }
      ]
    },
    {
      "cell_type": "markdown",
      "source": [
        "**IMPROVE OUR TESTING**"
      ],
      "metadata": {
        "id": "lmvKDSzWTxaq"
      }
    },
    {
      "cell_type": "code",
      "source": [
        "our_comment = \"i hate you\"\n",
        "preprocessed_comment = preprocess_text(our_comment)\n",
        "vectorized_comment = vectorizer.transform([preprocessed_comment]).toarray()\n",
        "\n",
        "models = {\n",
        "    'ANN': (ANN_model, 'Artificial_Neural_Network'),\n",
        "    'NB': (NB_model, 'Naive_Bayes'),\n",
        "    'SVC': (SVC_model, 'Support_Vector_Machine'),\n",
        "    'LR': (LR_Model, 'Logistic_Regression')\n",
        "}\n",
        "\n",
        "for model_key, (model, model_label) in models.items():\n",
        "    prediction_prob = model.predict(vectorized_comment)\n",
        "    prediction = (prediction_prob > 0.5).astype(int)\n",
        "    prediction_label = 'toxic' if prediction == 1 else 'non-toxic'\n",
        "    print(f'{model_label} Prediction:', prediction_label)\n",
        "\n"
      ],
      "metadata": {
        "id": "cFV6ywo7TzIi",
        "outputId": "8ecdc036-84ff-49c2-f85e-ef2a3ebeeed3",
        "colab": {
          "base_uri": "https://localhost:8080/"
        }
      },
      "execution_count": 18,
      "outputs": [
        {
          "output_type": "stream",
          "name": "stdout",
          "text": [
            "1/1 [==============================] - 0s 31ms/step\n",
            "Artificial_Neural_Network Prediction: toxic\n",
            "Naive_Bayes Prediction: non-toxic\n",
            "Support_Vector_Machine Prediction: toxic\n",
            "Logistic_Regression Prediction: toxic\n"
          ]
        }
      ]
    }
  ]
}